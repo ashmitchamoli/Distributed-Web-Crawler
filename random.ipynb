{
 "cells": [
  {
   "cell_type": "code",
   "execution_count": 5,
   "metadata": {},
   "outputs": [],
   "source": [
    "line1 = '3\\t0.234234243256447'\n",
    "line2 = '3\\t0.324\\t2\\t4\\t5'\n",
    "line3 = '4\\tnumNodes\\t10'"
   ]
  },
  {
   "cell_type": "code",
   "execution_count": 6,
   "metadata": {},
   "outputs": [
    {
     "name": "stdout",
     "output_type": "stream",
     "text": [
      "3\n",
      "0.234234243256447\n",
      "['0.234234243256447']\n"
     ]
    }
   ],
   "source": [
    "page, info = line1.strip().split('\\t', maxsplit=1)\n",
    "print(page)\n",
    "print(info)\n",
    "\n",
    "print(info.split('\\t', maxsplit=1))"
   ]
  },
  {
   "cell_type": "code",
   "execution_count": 7,
   "metadata": {},
   "outputs": [
    {
     "name": "stdout",
     "output_type": "stream",
     "text": [
      "3\n",
      "0.324\t2\t4\t5\n",
      "['0.324', '2\\t4\\t5']\n"
     ]
    }
   ],
   "source": [
    "page, info = line2.strip().split('\\t', maxsplit=1)\n",
    "print(page)\n",
    "print(info)\n",
    "\n",
    "print(info.split('\\t', maxsplit=1))"
   ]
  },
  {
   "cell_type": "code",
   "execution_count": 23,
   "metadata": {},
   "outputs": [
    {
     "name": "stdout",
     "output_type": "stream",
     "text": [
      "4\n",
      "numNodes\t10\n",
      "['numNodes', '10']\n"
     ]
    }
   ],
   "source": [
    "page, info = line3.strip().split('\\t', maxsplit=1)\n",
    "print(page)\n",
    "print(info)\n",
    "\n",
    "print(info.split('\\t', maxsplit=1))"
   ]
  },
  {
   "cell_type": "code",
   "execution_count": 1,
   "metadata": {},
   "outputs": [],
   "source": [
    "f : int = 'd'"
   ]
  }
 ],
 "metadata": {
  "kernelspec": {
   "display_name": "Python 3",
   "language": "python",
   "name": "python3"
  },
  "language_info": {
   "codemirror_mode": {
    "name": "ipython",
    "version": 3
   },
   "file_extension": ".py",
   "mimetype": "text/x-python",
   "name": "python",
   "nbconvert_exporter": "python",
   "pygments_lexer": "ipython3",
   "version": "3.11.6"
  }
 },
 "nbformat": 4,
 "nbformat_minor": 2
}
